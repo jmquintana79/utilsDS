{
 "cells": [
  {
   "cell_type": "markdown",
   "metadata": {},
   "source": [
    "# Scikit-Learn PIPELINES: variables selection (categorical / numerical)"
   ]
  },
  {
   "cell_type": "code",
   "execution_count": 4,
   "metadata": {},
   "outputs": [],
   "source": [
    "import os\n",
    "import sys\n",
    "sys.path.append('../')  \n",
    "from tools.reader import csv2df, get_dcol"
   ]
  },
  {
   "cell_type": "markdown",
   "metadata": {},
   "source": [
    "### read data"
   ]
  },
  {
   "cell_type": "code",
   "execution_count": 3,
   "metadata": {},
   "outputs": [
    {
     "name": "stdout",
     "output_type": "stream",
     "text": [
      "<class 'pandas.core.frame.DataFrame'>\n",
      "DatetimeIndex: 34775 entries, 2012-01-01 00:00:00 to 2015-12-31 23:00:00\n",
      "Data columns (total 24 columns):\n",
      "hforecast     34775 non-null int64\n",
      "VGRD267       34775 non-null float64\n",
      "UGRD267       34775 non-null float64\n",
      "LCDC267       34775 non-null float64\n",
      "MCDC267       34775 non-null float64\n",
      "HCDC267       34775 non-null float64\n",
      "TCDC267       34775 non-null float64\n",
      "PRES267       34775 non-null float64\n",
      "RH267         34775 non-null float64\n",
      "TMP267        34775 non-null float64\n",
      "APCP267       34775 non-null float64\n",
      "HWS267        34775 non-null float64\n",
      "cLCDC267      34775 non-null int64\n",
      "cMCDC267      34775 non-null int64\n",
      "cHCDC267      34775 non-null int64\n",
      "cTCDC267      34775 non-null int64\n",
      "logAPCP267    34775 non-null float64\n",
      "cAPCP267      34775 non-null category\n",
      "year          34775 non-null int64\n",
      "month         34775 non-null int64\n",
      "hour          34775 non-null int64\n",
      "doy           34775 non-null int64\n",
      "y             34775 non-null float64\n",
      "cy            34775 non-null int64\n",
      "dtypes: category(1), float64(13), int64(10)\n",
      "memory usage: 6.4 MB\n"
     ]
    }
   ],
   "source": [
    "ddt = {'lcol':['dt'],'sformat':'%Y-%m-%d %H:%M:%S'}\n",
    "data, dcol = csv2df('../../datasets/dataset.solar.csv', ltarget = ['y', 'cy'], ddt = ddt, lindex = ['dt'])\n",
    "data.info()"
   ]
  },
  {
   "cell_type": "markdown",
   "metadata": {},
   "source": [
    "## PIPELINES"
   ]
  },
  {
   "cell_type": "code",
   "execution_count": 27,
   "metadata": {},
   "outputs": [],
   "source": [
    "from sklearn.pipeline import Pipeline, FeatureUnion\n",
    "from sklearn.preprocessing import OneHotEncoder, StandardScaler\n",
    "from pipelines.custom import *\n",
    "import numpy as np"
   ]
  },
  {
   "cell_type": "markdown",
   "metadata": {},
   "source": [
    "### only numeric"
   ]
  },
  {
   "cell_type": "code",
   "execution_count": 12,
   "metadata": {},
   "outputs": [],
   "source": [
    "# only for numerical and boolean data\n",
    "num_pipeline = Pipeline([\n",
    "    ('features', FeatureUnion(n_jobs=-1, transformer_list=[\n",
    "        # bool\n",
    "        ('boolean', Pipeline([ ('selector', TypeSelector('bool')) ])),\n",
    "        # numericals\n",
    "        ('numericals', Pipeline([\n",
    "            ('selector', TypeSelector(np.number)),\n",
    "            ('scaler', StandardScaler()),\n",
    "        ])), \n",
    "    ])), \n",
    "]) "
   ]
  },
  {
   "cell_type": "code",
   "execution_count": 37,
   "metadata": {},
   "outputs": [
    {
     "data": {
      "text/plain": [
       "array([[-1.36419905,  1.40019561],\n",
       "       [-1.39772874,  1.38778641],\n",
       "       [-1.43423885,  1.35469522],\n",
       "       ..., \n",
       "       [-0.99872543,  0.9837981 ],\n",
       "       [-1.07733393,  1.03895008],\n",
       "       [-1.12998796,  1.07617768]])"
      ]
     },
     "execution_count": 37,
     "metadata": {},
     "output_type": "execute_result"
    }
   ],
   "source": [
    "df = data[['cAPCP267','TMP267','PRES267']]\n",
    "X = num_pipeline.fit_transform(df)\n",
    "X[:, :5]"
   ]
  },
  {
   "cell_type": "markdown",
   "metadata": {},
   "source": [
    "### only categorical (Option 1)"
   ]
  },
  {
   "cell_type": "code",
   "execution_count": 23,
   "metadata": {},
   "outputs": [],
   "source": [
    "cat_pipeline = Pipeline([\n",
    "   ('selector', TypeSelector('category')),\n",
    "   ('labeler', StringIndexer()),\n",
    "   ('encoder', OneHotEncoder(handle_unknown='ignore')),\n",
    "])"
   ]
  },
  {
   "cell_type": "code",
   "execution_count": 26,
   "metadata": {},
   "outputs": [
    {
     "data": {
      "text/plain": [
       "array([[ 1.,  0.,  0.],\n",
       "       [ 1.,  0.,  0.],\n",
       "       [ 1.,  0.,  0.],\n",
       "       ..., \n",
       "       [ 0.,  0.,  1.],\n",
       "       [ 1.,  0.,  0.],\n",
       "       [ 1.,  0.,  0.]])"
      ]
     },
     "execution_count": 26,
     "metadata": {},
     "output_type": "execute_result"
    }
   ],
   "source": [
    "df = data[['cAPCP267']]\n",
    "X = cat_pipeline.fit_transform(df)\n",
    "X[:,:5].toarray()"
   ]
  },
  {
   "cell_type": "markdown",
   "metadata": {},
   "source": [
    "### only categorical (Option 2)"
   ]
  },
  {
   "cell_type": "code",
   "execution_count": 29,
   "metadata": {},
   "outputs": [],
   "source": [
    "from sklearn.base import BaseEstimator, TransformerMixin\n",
    "import pandas as pd\n",
    "\n",
    "class MyOneHotEncoder(BaseEstimator, TransformerMixin):\n",
    "    def __init__(self, prefix_sep='_',dummy_na=False, drop_first=True):\n",
    "        self.prefix_sep = prefix_sep\n",
    "        self.dummy_na = dummy_na\n",
    "        self.drop_first = drop_first\n",
    "    def fit(self, X, y=None):\n",
    "        return self\n",
    "    def transform(self, X):\n",
    "        assert isinstance(X, pd.DataFrame)\n",
    "        return pd.get_dummies(X, prefix_sep=self.prefix_sep,dummy_na=self.dummy_na,drop_first=self.drop_first).values\n",
    "        "
   ]
  },
  {
   "cell_type": "code",
   "execution_count": 34,
   "metadata": {},
   "outputs": [],
   "source": [
    "cat_pipeline = Pipeline([\n",
    "   ('selector', TypeSelector('category')),\n",
    "   ('encoder', MyOneHotEncoder()),\n",
    "])"
   ]
  },
  {
   "cell_type": "code",
   "execution_count": 36,
   "metadata": {},
   "outputs": [
    {
     "data": {
      "text/plain": [
       "array([[0, 0],\n",
       "       [0, 0],\n",
       "       [0, 0],\n",
       "       ..., \n",
       "       [0, 1],\n",
       "       [0, 0],\n",
       "       [0, 0]], dtype=uint8)"
      ]
     },
     "execution_count": 36,
     "metadata": {},
     "output_type": "execute_result"
    }
   ],
   "source": [
    "df = data[['cAPCP267','TMP267']]\n",
    "dm = MyOneHotEncoder()\n",
    "X = cat_pipeline.fit_transform(df)\n",
    "X[:, :5]"
   ]
  },
  {
   "cell_type": "markdown",
   "metadata": {},
   "source": [
    "### numerical + categorical"
   ]
  },
  {
   "cell_type": "code",
   "execution_count": 39,
   "metadata": {},
   "outputs": [],
   "source": [
    "full_pipeline = FeatureUnion(transformer_list=[\n",
    "   (\"num_pipeline\", num_pipeline),\n",
    "   (\"cat_pipeline\", cat_pipeline),\n",
    "])"
   ]
  },
  {
   "cell_type": "code",
   "execution_count": 40,
   "metadata": {},
   "outputs": [
    {
     "data": {
      "text/plain": [
       "array([[-1.36419905,  0.        ,  0.        ],\n",
       "       [-1.39772874,  0.        ,  0.        ],\n",
       "       [-1.43423885,  0.        ,  0.        ],\n",
       "       ..., \n",
       "       [-0.99872543,  0.        ,  1.        ],\n",
       "       [-1.07733393,  0.        ,  0.        ],\n",
       "       [-1.12998796,  0.        ,  0.        ]])"
      ]
     },
     "execution_count": 40,
     "metadata": {},
     "output_type": "execute_result"
    }
   ],
   "source": [
    "df = data[['cAPCP267','TMP267']]\n",
    "X = full_pipeline.fit_transform(df)\n",
    "X[:,:5]"
   ]
  }
 ],
 "metadata": {
  "kernelspec": {
   "display_name": "Python 3 (ipykernel)",
   "language": "python",
   "name": "python3"
  },
  "language_info": {
   "codemirror_mode": {
    "name": "ipython",
    "version": 3
   },
   "file_extension": ".py",
   "mimetype": "text/x-python",
   "name": "python",
   "nbconvert_exporter": "python",
   "pygments_lexer": "ipython3",
   "version": "3.7.0"
  }
 },
 "nbformat": 4,
 "nbformat_minor": 4
}
